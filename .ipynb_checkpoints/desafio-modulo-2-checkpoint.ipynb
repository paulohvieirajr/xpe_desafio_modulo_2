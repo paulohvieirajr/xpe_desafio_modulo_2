{
 "cells": [
  {
   "cell_type": "markdown",
   "id": "1127c3ec-93d1-4463-90da-dacd2488c9da",
   "metadata": {},
   "source": [
    "## Resolução"
   ]
  },
  {
   "cell_type": "markdown",
   "id": "71f35e3c-28ff-40c7-8010-a5f34b196b24",
   "metadata": {},
   "source": [
    "### Import de bibliotecas"
   ]
  },
  {
   "cell_type": "code",
   "execution_count": 1,
   "id": "c0b22efb-c21d-40ad-a7a2-92fd8e8adaf8",
   "metadata": {},
   "outputs": [],
   "source": [
    "# Importando bibliotecas\n",
    "import pandas as pd\n",
    "import matplotlib.pyplot as plt\n",
    "import seaborn as sns\n",
    "\n",
    "# blibliotecas para balanceamento dos dados\n",
    "from imblearn.under_sampling import RandomUnderSampler, TomekLinks\n",
    "\n",
    "# biblioteca para separação dos dados de treinamento e teste\n",
    "from sklearn.model_selection import train_test_split\n",
    "\n",
    "# biblioteca de accuracy\n",
    "from sklearn.metrics import accuracy_score\n",
    "\n",
    "# biblioteca para criação do modelo de RandomForest\n",
    "from sklearn.ensemble import RandomForestClassifier\n",
    "\n",
    "# bibliotecas de matriz de confusão\n",
    "from sklearn.metrics import confusion_matrix, classification_report"
   ]
  },
  {
   "cell_type": "markdown",
   "id": "0bdb88d9-62cd-4aa7-9005-1530d58d288a",
   "metadata": {},
   "source": [
    "### Coletando dados"
   ]
  },
  {
   "cell_type": "code",
   "execution_count": 2,
   "id": "46e6fd33-e82f-4b2a-9aa0-f4c5359b33dd",
   "metadata": {},
   "outputs": [],
   "source": [
    "df = pd.read_csv('./dataset/heart.csv', sep=';')"
   ]
  },
  {
   "cell_type": "markdown",
   "id": "3a6c0df1-0b2a-4b66-8daa-5a7b5b91f8a9",
   "metadata": {},
   "source": [
    "### Análise descritiva dos dados - Verificando dados do dataset"
   ]
  },
  {
   "cell_type": "code",
   "execution_count": 3,
   "id": "663c6d49-fb26-4769-bfb7-4c02bee5f275",
   "metadata": {},
   "outputs": [
    {
     "data": {
      "text/plain": [
       "(342, 14)"
      ]
     },
     "execution_count": 3,
     "metadata": {},
     "output_type": "execute_result"
    }
   ],
   "source": [
    "# Exibindo número de linhas e colunas\n",
    "df.shape"
   ]
  },
  {
   "cell_type": "code",
   "execution_count": 4,
   "id": "15966156-082c-4ccc-ab43-5989ce904442",
   "metadata": {},
   "outputs": [
    {
     "name": "stdout",
     "output_type": "stream",
     "text": [
      "<class 'pandas.core.frame.DataFrame'>\n",
      "RangeIndex: 342 entries, 0 to 341\n",
      "Data columns (total 14 columns):\n",
      " #   Column    Non-Null Count  Dtype  \n",
      "---  ------    --------------  -----  \n",
      " 0   age       342 non-null    int64  \n",
      " 1   sex       342 non-null    int64  \n",
      " 2   cp        342 non-null    int64  \n",
      " 3   trtbps    342 non-null    int64  \n",
      " 4   chol      342 non-null    int64  \n",
      " 5   fbs       342 non-null    int64  \n",
      " 6   restecg   342 non-null    int64  \n",
      " 7   thalachh  342 non-null    int64  \n",
      " 8   exng      342 non-null    int64  \n",
      " 9   oldpeak   342 non-null    float64\n",
      " 10  slp       342 non-null    int64  \n",
      " 11  caa       342 non-null    int64  \n",
      " 12  thall     342 non-null    int64  \n",
      " 13  output    342 non-null    int64  \n",
      "dtypes: float64(1), int64(13)\n",
      "memory usage: 37.5 KB\n"
     ]
    }
   ],
   "source": [
    "# Exibindo informações gerais dos dados\n",
    "df.info()"
   ]
  },
  {
   "cell_type": "code",
   "execution_count": 5,
   "id": "5ebeeb2f-86fc-4aa5-94e7-066ea920d781",
   "metadata": {},
   "outputs": [
    {
     "data": {
      "text/html": [
       "<div>\n",
       "<style scoped>\n",
       "    .dataframe tbody tr th:only-of-type {\n",
       "        vertical-align: middle;\n",
       "    }\n",
       "\n",
       "    .dataframe tbody tr th {\n",
       "        vertical-align: top;\n",
       "    }\n",
       "\n",
       "    .dataframe thead th {\n",
       "        text-align: right;\n",
       "    }\n",
       "</style>\n",
       "<table border=\"1\" class=\"dataframe\">\n",
       "  <thead>\n",
       "    <tr style=\"text-align: right;\">\n",
       "      <th></th>\n",
       "      <th>age</th>\n",
       "      <th>sex</th>\n",
       "      <th>cp</th>\n",
       "      <th>trtbps</th>\n",
       "      <th>chol</th>\n",
       "      <th>fbs</th>\n",
       "      <th>restecg</th>\n",
       "      <th>thalachh</th>\n",
       "      <th>exng</th>\n",
       "      <th>oldpeak</th>\n",
       "      <th>slp</th>\n",
       "      <th>caa</th>\n",
       "      <th>thall</th>\n",
       "      <th>output</th>\n",
       "    </tr>\n",
       "  </thead>\n",
       "  <tbody>\n",
       "    <tr>\n",
       "      <th>0</th>\n",
       "      <td>63</td>\n",
       "      <td>1</td>\n",
       "      <td>3</td>\n",
       "      <td>145</td>\n",
       "      <td>233</td>\n",
       "      <td>1</td>\n",
       "      <td>0</td>\n",
       "      <td>150</td>\n",
       "      <td>0</td>\n",
       "      <td>2.3</td>\n",
       "      <td>0</td>\n",
       "      <td>0</td>\n",
       "      <td>1</td>\n",
       "      <td>1</td>\n",
       "    </tr>\n",
       "    <tr>\n",
       "      <th>1</th>\n",
       "      <td>37</td>\n",
       "      <td>1</td>\n",
       "      <td>2</td>\n",
       "      <td>130</td>\n",
       "      <td>250</td>\n",
       "      <td>0</td>\n",
       "      <td>1</td>\n",
       "      <td>187</td>\n",
       "      <td>0</td>\n",
       "      <td>3.5</td>\n",
       "      <td>0</td>\n",
       "      <td>0</td>\n",
       "      <td>2</td>\n",
       "      <td>1</td>\n",
       "    </tr>\n",
       "    <tr>\n",
       "      <th>2</th>\n",
       "      <td>41</td>\n",
       "      <td>0</td>\n",
       "      <td>1</td>\n",
       "      <td>130</td>\n",
       "      <td>204</td>\n",
       "      <td>0</td>\n",
       "      <td>0</td>\n",
       "      <td>172</td>\n",
       "      <td>0</td>\n",
       "      <td>1.4</td>\n",
       "      <td>2</td>\n",
       "      <td>0</td>\n",
       "      <td>2</td>\n",
       "      <td>1</td>\n",
       "    </tr>\n",
       "    <tr>\n",
       "      <th>3</th>\n",
       "      <td>56</td>\n",
       "      <td>1</td>\n",
       "      <td>1</td>\n",
       "      <td>120</td>\n",
       "      <td>236</td>\n",
       "      <td>0</td>\n",
       "      <td>1</td>\n",
       "      <td>178</td>\n",
       "      <td>0</td>\n",
       "      <td>0.8</td>\n",
       "      <td>2</td>\n",
       "      <td>0</td>\n",
       "      <td>2</td>\n",
       "      <td>1</td>\n",
       "    </tr>\n",
       "    <tr>\n",
       "      <th>4</th>\n",
       "      <td>57</td>\n",
       "      <td>0</td>\n",
       "      <td>0</td>\n",
       "      <td>120</td>\n",
       "      <td>354</td>\n",
       "      <td>0</td>\n",
       "      <td>1</td>\n",
       "      <td>163</td>\n",
       "      <td>1</td>\n",
       "      <td>0.6</td>\n",
       "      <td>2</td>\n",
       "      <td>0</td>\n",
       "      <td>2</td>\n",
       "      <td>1</td>\n",
       "    </tr>\n",
       "  </tbody>\n",
       "</table>\n",
       "</div>"
      ],
      "text/plain": [
       "   age  sex  cp  trtbps  chol  fbs  restecg  thalachh  exng  oldpeak  slp  \\\n",
       "0   63    1   3     145   233    1        0       150     0      2.3    0   \n",
       "1   37    1   2     130   250    0        1       187     0      3.5    0   \n",
       "2   41    0   1     130   204    0        0       172     0      1.4    2   \n",
       "3   56    1   1     120   236    0        1       178     0      0.8    2   \n",
       "4   57    0   0     120   354    0        1       163     1      0.6    2   \n",
       "\n",
       "   caa  thall  output  \n",
       "0    0      1       1  \n",
       "1    0      2       1  \n",
       "2    0      2       1  \n",
       "3    0      2       1  \n",
       "4    0      2       1  "
      ]
     },
     "execution_count": 5,
     "metadata": {},
     "output_type": "execute_result"
    }
   ],
   "source": [
    "# Visualizando as primeiras linhas dos dados\n",
    "df.head()"
   ]
  },
  {
   "cell_type": "code",
   "execution_count": 6,
   "id": "76bb43c7-ba13-462c-b77e-2e335f5c5c33",
   "metadata": {},
   "outputs": [
    {
     "data": {
      "text/html": [
       "<div>\n",
       "<style scoped>\n",
       "    .dataframe tbody tr th:only-of-type {\n",
       "        vertical-align: middle;\n",
       "    }\n",
       "\n",
       "    .dataframe tbody tr th {\n",
       "        vertical-align: top;\n",
       "    }\n",
       "\n",
       "    .dataframe thead th {\n",
       "        text-align: right;\n",
       "    }\n",
       "</style>\n",
       "<table border=\"1\" class=\"dataframe\">\n",
       "  <thead>\n",
       "    <tr style=\"text-align: right;\">\n",
       "      <th></th>\n",
       "      <th>age</th>\n",
       "      <th>sex</th>\n",
       "      <th>cp</th>\n",
       "      <th>trtbps</th>\n",
       "      <th>chol</th>\n",
       "      <th>fbs</th>\n",
       "      <th>restecg</th>\n",
       "      <th>thalachh</th>\n",
       "      <th>exng</th>\n",
       "      <th>oldpeak</th>\n",
       "      <th>slp</th>\n",
       "      <th>caa</th>\n",
       "      <th>thall</th>\n",
       "      <th>output</th>\n",
       "    </tr>\n",
       "  </thead>\n",
       "  <tbody>\n",
       "    <tr>\n",
       "      <th>337</th>\n",
       "      <td>51</td>\n",
       "      <td>0</td>\n",
       "      <td>0</td>\n",
       "      <td>130</td>\n",
       "      <td>305</td>\n",
       "      <td>0</td>\n",
       "      <td>1</td>\n",
       "      <td>142</td>\n",
       "      <td>1</td>\n",
       "      <td>1.2</td>\n",
       "      <td>1</td>\n",
       "      <td>0</td>\n",
       "      <td>3</td>\n",
       "      <td>0</td>\n",
       "    </tr>\n",
       "    <tr>\n",
       "      <th>338</th>\n",
       "      <td>54</td>\n",
       "      <td>1</td>\n",
       "      <td>0</td>\n",
       "      <td>120</td>\n",
       "      <td>188</td>\n",
       "      <td>0</td>\n",
       "      <td>1</td>\n",
       "      <td>113</td>\n",
       "      <td>0</td>\n",
       "      <td>1.4</td>\n",
       "      <td>1</td>\n",
       "      <td>1</td>\n",
       "      <td>3</td>\n",
       "      <td>0</td>\n",
       "    </tr>\n",
       "    <tr>\n",
       "      <th>339</th>\n",
       "      <td>59</td>\n",
       "      <td>1</td>\n",
       "      <td>0</td>\n",
       "      <td>170</td>\n",
       "      <td>326</td>\n",
       "      <td>0</td>\n",
       "      <td>0</td>\n",
       "      <td>140</td>\n",
       "      <td>1</td>\n",
       "      <td>3.4</td>\n",
       "      <td>0</td>\n",
       "      <td>0</td>\n",
       "      <td>3</td>\n",
       "      <td>0</td>\n",
       "    </tr>\n",
       "    <tr>\n",
       "      <th>340</th>\n",
       "      <td>46</td>\n",
       "      <td>1</td>\n",
       "      <td>2</td>\n",
       "      <td>150</td>\n",
       "      <td>231</td>\n",
       "      <td>0</td>\n",
       "      <td>1</td>\n",
       "      <td>147</td>\n",
       "      <td>0</td>\n",
       "      <td>3.6</td>\n",
       "      <td>1</td>\n",
       "      <td>0</td>\n",
       "      <td>2</td>\n",
       "      <td>0</td>\n",
       "    </tr>\n",
       "    <tr>\n",
       "      <th>341</th>\n",
       "      <td>68</td>\n",
       "      <td>1</td>\n",
       "      <td>2</td>\n",
       "      <td>180</td>\n",
       "      <td>274</td>\n",
       "      <td>1</td>\n",
       "      <td>0</td>\n",
       "      <td>150</td>\n",
       "      <td>1</td>\n",
       "      <td>1.6</td>\n",
       "      <td>1</td>\n",
       "      <td>0</td>\n",
       "      <td>3</td>\n",
       "      <td>0</td>\n",
       "    </tr>\n",
       "  </tbody>\n",
       "</table>\n",
       "</div>"
      ],
      "text/plain": [
       "     age  sex  cp  trtbps  chol  fbs  restecg  thalachh  exng  oldpeak  slp  \\\n",
       "337   51    0   0     130   305    0        1       142     1      1.2    1   \n",
       "338   54    1   0     120   188    0        1       113     0      1.4    1   \n",
       "339   59    1   0     170   326    0        0       140     1      3.4    0   \n",
       "340   46    1   2     150   231    0        1       147     0      3.6    1   \n",
       "341   68    1   2     180   274    1        0       150     1      1.6    1   \n",
       "\n",
       "     caa  thall  output  \n",
       "337    0      3       0  \n",
       "338    1      3       0  \n",
       "339    0      3       0  \n",
       "340    0      2       0  \n",
       "341    0      3       0  "
      ]
     },
     "execution_count": 6,
     "metadata": {},
     "output_type": "execute_result"
    }
   ],
   "source": [
    "# isualizando as ultimas linhas dos dados\n",
    "df.tail()"
   ]
  },
  {
   "cell_type": "markdown",
   "id": "61b4e880-010f-4516-bcb0-504b933949fb",
   "metadata": {},
   "source": [
    "### Tratamento de dados duplicados"
   ]
  },
  {
   "cell_type": "code",
   "execution_count": 13,
   "id": "fc3aee2e-5c26-45af-875d-d5ae53698256",
   "metadata": {},
   "outputs": [
    {
     "data": {
      "text/html": [
       "<div>\n",
       "<style scoped>\n",
       "    .dataframe tbody tr th:only-of-type {\n",
       "        vertical-align: middle;\n",
       "    }\n",
       "\n",
       "    .dataframe tbody tr th {\n",
       "        vertical-align: top;\n",
       "    }\n",
       "\n",
       "    .dataframe thead th {\n",
       "        text-align: right;\n",
       "    }\n",
       "</style>\n",
       "<table border=\"1\" class=\"dataframe\">\n",
       "  <thead>\n",
       "    <tr style=\"text-align: right;\">\n",
       "      <th></th>\n",
       "      <th>age</th>\n",
       "      <th>sex</th>\n",
       "      <th>cp</th>\n",
       "      <th>trtbps</th>\n",
       "      <th>chol</th>\n",
       "      <th>fbs</th>\n",
       "      <th>restecg</th>\n",
       "      <th>thalachh</th>\n",
       "      <th>exng</th>\n",
       "      <th>oldpeak</th>\n",
       "      <th>slp</th>\n",
       "      <th>caa</th>\n",
       "      <th>thall</th>\n",
       "      <th>output</th>\n",
       "    </tr>\n",
       "  </thead>\n",
       "  <tbody>\n",
       "  </tbody>\n",
       "</table>\n",
       "</div>"
      ],
      "text/plain": [
       "Empty DataFrame\n",
       "Columns: [age, sex, cp, trtbps, chol, fbs, restecg, thalachh, exng, oldpeak, slp, caa, thall, output]\n",
       "Index: []"
      ]
     },
     "execution_count": 13,
     "metadata": {},
     "output_type": "execute_result"
    }
   ],
   "source": [
    "# Visualizando dados duplicados\n",
    "df[df.duplicated()].head()"
   ]
  },
  {
   "cell_type": "code",
   "execution_count": 14,
   "id": "86ad7eb5-5f4c-4b7e-beab-940014f78822",
   "metadata": {},
   "outputs": [
    {
     "data": {
      "text/plain": [
       "age         0\n",
       "sex         0\n",
       "cp          0\n",
       "trtbps      0\n",
       "chol        0\n",
       "fbs         0\n",
       "restecg     0\n",
       "thalachh    0\n",
       "exng        0\n",
       "oldpeak     0\n",
       "slp         0\n",
       "caa         0\n",
       "thall       0\n",
       "output      0\n",
       "dtype: int64"
      ]
     },
     "execution_count": 14,
     "metadata": {},
     "output_type": "execute_result"
    }
   ],
   "source": [
    "# Quantidade de dados duplicados\n",
    "df[df.duplicated()].count()"
   ]
  },
  {
   "cell_type": "code",
   "execution_count": 15,
   "id": "505e1ce8-0bef-4326-bd45-7119e84ebe57",
   "metadata": {},
   "outputs": [],
   "source": [
    "# Removendo dados duplicados\n",
    "df.drop_duplicates(inplace=True)"
   ]
  },
  {
   "cell_type": "code",
   "execution_count": 16,
   "id": "ecb90e1d-2db4-41a3-a920-2715bd75ddde",
   "metadata": {},
   "outputs": [
    {
     "data": {
      "text/plain": [
       "age         0\n",
       "sex         0\n",
       "cp          0\n",
       "trtbps      0\n",
       "chol        0\n",
       "fbs         0\n",
       "restecg     0\n",
       "thalachh    0\n",
       "exng        0\n",
       "oldpeak     0\n",
       "slp         0\n",
       "caa         0\n",
       "thall       0\n",
       "output      0\n",
       "dtype: int64"
      ]
     },
     "execution_count": 16,
     "metadata": {},
     "output_type": "execute_result"
    }
   ],
   "source": [
    "# Verifica se existem dados nulos no dataframe\n",
    "df.isnull().sum()"
   ]
  },
  {
   "cell_type": "code",
   "execution_count": 17,
   "id": "a795f2a5-bd5a-4c21-8779-c315af890efa",
   "metadata": {},
   "outputs": [
    {
     "data": {
      "text/html": [
       "<div>\n",
       "<style scoped>\n",
       "    .dataframe tbody tr th:only-of-type {\n",
       "        vertical-align: middle;\n",
       "    }\n",
       "\n",
       "    .dataframe tbody tr th {\n",
       "        vertical-align: top;\n",
       "    }\n",
       "\n",
       "    .dataframe thead th {\n",
       "        text-align: right;\n",
       "    }\n",
       "</style>\n",
       "<table border=\"1\" class=\"dataframe\">\n",
       "  <thead>\n",
       "    <tr style=\"text-align: right;\">\n",
       "      <th></th>\n",
       "      <th>age</th>\n",
       "      <th>sex</th>\n",
       "      <th>cp</th>\n",
       "      <th>trtbps</th>\n",
       "      <th>chol</th>\n",
       "      <th>fbs</th>\n",
       "      <th>restecg</th>\n",
       "      <th>thalachh</th>\n",
       "      <th>exng</th>\n",
       "      <th>oldpeak</th>\n",
       "      <th>slp</th>\n",
       "      <th>caa</th>\n",
       "      <th>thall</th>\n",
       "      <th>output</th>\n",
       "    </tr>\n",
       "  </thead>\n",
       "  <tbody>\n",
       "    <tr>\n",
       "      <th>0</th>\n",
       "      <td>False</td>\n",
       "      <td>False</td>\n",
       "      <td>False</td>\n",
       "      <td>False</td>\n",
       "      <td>False</td>\n",
       "      <td>False</td>\n",
       "      <td>False</td>\n",
       "      <td>False</td>\n",
       "      <td>False</td>\n",
       "      <td>False</td>\n",
       "      <td>False</td>\n",
       "      <td>False</td>\n",
       "      <td>False</td>\n",
       "      <td>False</td>\n",
       "    </tr>\n",
       "    <tr>\n",
       "      <th>1</th>\n",
       "      <td>False</td>\n",
       "      <td>False</td>\n",
       "      <td>False</td>\n",
       "      <td>False</td>\n",
       "      <td>False</td>\n",
       "      <td>False</td>\n",
       "      <td>False</td>\n",
       "      <td>False</td>\n",
       "      <td>False</td>\n",
       "      <td>False</td>\n",
       "      <td>False</td>\n",
       "      <td>False</td>\n",
       "      <td>False</td>\n",
       "      <td>False</td>\n",
       "    </tr>\n",
       "    <tr>\n",
       "      <th>2</th>\n",
       "      <td>False</td>\n",
       "      <td>False</td>\n",
       "      <td>False</td>\n",
       "      <td>False</td>\n",
       "      <td>False</td>\n",
       "      <td>False</td>\n",
       "      <td>False</td>\n",
       "      <td>False</td>\n",
       "      <td>False</td>\n",
       "      <td>False</td>\n",
       "      <td>False</td>\n",
       "      <td>False</td>\n",
       "      <td>False</td>\n",
       "      <td>False</td>\n",
       "    </tr>\n",
       "    <tr>\n",
       "      <th>3</th>\n",
       "      <td>False</td>\n",
       "      <td>False</td>\n",
       "      <td>False</td>\n",
       "      <td>False</td>\n",
       "      <td>False</td>\n",
       "      <td>False</td>\n",
       "      <td>False</td>\n",
       "      <td>False</td>\n",
       "      <td>False</td>\n",
       "      <td>False</td>\n",
       "      <td>False</td>\n",
       "      <td>False</td>\n",
       "      <td>False</td>\n",
       "      <td>False</td>\n",
       "    </tr>\n",
       "    <tr>\n",
       "      <th>4</th>\n",
       "      <td>False</td>\n",
       "      <td>False</td>\n",
       "      <td>False</td>\n",
       "      <td>False</td>\n",
       "      <td>False</td>\n",
       "      <td>False</td>\n",
       "      <td>False</td>\n",
       "      <td>False</td>\n",
       "      <td>False</td>\n",
       "      <td>False</td>\n",
       "      <td>False</td>\n",
       "      <td>False</td>\n",
       "      <td>False</td>\n",
       "      <td>False</td>\n",
       "    </tr>\n",
       "    <tr>\n",
       "      <th>...</th>\n",
       "      <td>...</td>\n",
       "      <td>...</td>\n",
       "      <td>...</td>\n",
       "      <td>...</td>\n",
       "      <td>...</td>\n",
       "      <td>...</td>\n",
       "      <td>...</td>\n",
       "      <td>...</td>\n",
       "      <td>...</td>\n",
       "      <td>...</td>\n",
       "      <td>...</td>\n",
       "      <td>...</td>\n",
       "      <td>...</td>\n",
       "      <td>...</td>\n",
       "    </tr>\n",
       "    <tr>\n",
       "      <th>298</th>\n",
       "      <td>False</td>\n",
       "      <td>False</td>\n",
       "      <td>False</td>\n",
       "      <td>False</td>\n",
       "      <td>False</td>\n",
       "      <td>False</td>\n",
       "      <td>False</td>\n",
       "      <td>False</td>\n",
       "      <td>False</td>\n",
       "      <td>False</td>\n",
       "      <td>False</td>\n",
       "      <td>False</td>\n",
       "      <td>False</td>\n",
       "      <td>False</td>\n",
       "    </tr>\n",
       "    <tr>\n",
       "      <th>299</th>\n",
       "      <td>False</td>\n",
       "      <td>False</td>\n",
       "      <td>False</td>\n",
       "      <td>False</td>\n",
       "      <td>False</td>\n",
       "      <td>False</td>\n",
       "      <td>False</td>\n",
       "      <td>False</td>\n",
       "      <td>False</td>\n",
       "      <td>False</td>\n",
       "      <td>False</td>\n",
       "      <td>False</td>\n",
       "      <td>False</td>\n",
       "      <td>False</td>\n",
       "    </tr>\n",
       "    <tr>\n",
       "      <th>300</th>\n",
       "      <td>False</td>\n",
       "      <td>False</td>\n",
       "      <td>False</td>\n",
       "      <td>False</td>\n",
       "      <td>False</td>\n",
       "      <td>False</td>\n",
       "      <td>False</td>\n",
       "      <td>False</td>\n",
       "      <td>False</td>\n",
       "      <td>False</td>\n",
       "      <td>False</td>\n",
       "      <td>False</td>\n",
       "      <td>False</td>\n",
       "      <td>False</td>\n",
       "    </tr>\n",
       "    <tr>\n",
       "      <th>301</th>\n",
       "      <td>False</td>\n",
       "      <td>False</td>\n",
       "      <td>False</td>\n",
       "      <td>False</td>\n",
       "      <td>False</td>\n",
       "      <td>False</td>\n",
       "      <td>False</td>\n",
       "      <td>False</td>\n",
       "      <td>False</td>\n",
       "      <td>False</td>\n",
       "      <td>False</td>\n",
       "      <td>False</td>\n",
       "      <td>False</td>\n",
       "      <td>False</td>\n",
       "    </tr>\n",
       "    <tr>\n",
       "      <th>302</th>\n",
       "      <td>False</td>\n",
       "      <td>False</td>\n",
       "      <td>False</td>\n",
       "      <td>False</td>\n",
       "      <td>False</td>\n",
       "      <td>False</td>\n",
       "      <td>False</td>\n",
       "      <td>False</td>\n",
       "      <td>False</td>\n",
       "      <td>False</td>\n",
       "      <td>False</td>\n",
       "      <td>False</td>\n",
       "      <td>False</td>\n",
       "      <td>False</td>\n",
       "    </tr>\n",
       "  </tbody>\n",
       "</table>\n",
       "<p>302 rows × 14 columns</p>\n",
       "</div>"
      ],
      "text/plain": [
       "       age    sex     cp  trtbps   chol    fbs  restecg  thalachh   exng  \\\n",
       "0    False  False  False   False  False  False    False     False  False   \n",
       "1    False  False  False   False  False  False    False     False  False   \n",
       "2    False  False  False   False  False  False    False     False  False   \n",
       "3    False  False  False   False  False  False    False     False  False   \n",
       "4    False  False  False   False  False  False    False     False  False   \n",
       "..     ...    ...    ...     ...    ...    ...      ...       ...    ...   \n",
       "298  False  False  False   False  False  False    False     False  False   \n",
       "299  False  False  False   False  False  False    False     False  False   \n",
       "300  False  False  False   False  False  False    False     False  False   \n",
       "301  False  False  False   False  False  False    False     False  False   \n",
       "302  False  False  False   False  False  False    False     False  False   \n",
       "\n",
       "     oldpeak    slp    caa  thall  output  \n",
       "0      False  False  False  False   False  \n",
       "1      False  False  False  False   False  \n",
       "2      False  False  False  False   False  \n",
       "3      False  False  False  False   False  \n",
       "4      False  False  False  False   False  \n",
       "..       ...    ...    ...    ...     ...  \n",
       "298    False  False  False  False   False  \n",
       "299    False  False  False  False   False  \n",
       "300    False  False  False  False   False  \n",
       "301    False  False  False  False   False  \n",
       "302    False  False  False  False   False  \n",
       "\n",
       "[302 rows x 14 columns]"
      ]
     },
     "execution_count": 17,
     "metadata": {},
     "output_type": "execute_result"
    }
   ],
   "source": [
    "# Verifica se existem dados nulos no dataframe\n",
    "df.isnull()"
   ]
  },
  {
   "cell_type": "markdown",
   "id": "766a55bd-37af-4c43-95f2-26e9628e2e17",
   "metadata": {},
   "source": [
    "### Contar número de registros de cada classe\n",
    "\n",
    "A Classe é nosso target, geralmente a ultima coluna com o resultado com base nos parâmetros anteriores. Normalmente representada por 0/1 que indica se é ou não algo, Ou pode ou não sofrer algo. "
   ]
  },
  {
   "cell_type": "code",
   "execution_count": 18,
   "id": "beb90a0a-1916-4a70-b69e-17d74aef1bac",
   "metadata": {},
   "outputs": [
    {
     "data": {
      "text/plain": [
       "output\n",
       "0    138\n",
       "1    164\n",
       "Name: output, dtype: int64"
      ]
     },
     "execution_count": 18,
     "metadata": {},
     "output_type": "execute_result"
    }
   ],
   "source": [
    "# A coluna outpot indica se alguem pode ou não sofrer ataque cardíaco.\n",
    "df.groupby(['output'])['output'].count()"
   ]
  },
  {
   "cell_type": "markdown",
   "id": "e0d802d8-3085-4081-8d35-54446c933b80",
   "metadata": {},
   "source": [
    "### Separando conjunto de dados de features e targetget"
   ]
  },
  {
   "cell_type": "code",
   "execution_count": 19,
   "id": "cfa1bb5a-0f18-426b-85f9-fb6193418c5c",
   "metadata": {},
   "outputs": [
    {
     "data": {
      "text/plain": [
       "array([[63.,  1.,  3., ...,  0.,  0.,  1.],\n",
       "       [37.,  1.,  2., ...,  0.,  0.,  2.],\n",
       "       [41.,  0.,  1., ...,  2.,  0.,  2.],\n",
       "       ...,\n",
       "       [68.,  1.,  0., ...,  1.,  2.,  3.],\n",
       "       [57.,  1.,  0., ...,  1.,  1.,  3.],\n",
       "       [57.,  0.,  1., ...,  1.,  1.,  2.]])"
      ]
     },
     "execution_count": 19,
     "metadata": {},
     "output_type": "execute_result"
    }
   ],
   "source": [
    "# todos os atributos menos a variavel output que é o target \n",
    "X_dados = df.drop('output', axis=1).values\n",
    "X_dados"
   ]
  },
  {
   "cell_type": "code",
   "execution_count": 20,
   "id": "4bd665a2-a4f0-4aea-88f5-a39a6eb2b113",
   "metadata": {},
   "outputs": [
    {
     "data": {
      "text/plain": [
       "array([1, 1, 1, 1, 1, 1, 1, 1, 1, 1, 1, 1, 1, 1, 1, 1, 1, 1, 1, 1, 1, 1,\n",
       "       1, 1, 1, 1, 1, 1, 1, 1, 1, 1, 1, 1, 1, 1, 1, 1, 1, 1, 1, 1, 1, 1,\n",
       "       1, 1, 1, 1, 1, 1, 1, 1, 1, 1, 1, 1, 1, 1, 1, 1, 1, 1, 1, 1, 1, 1,\n",
       "       1, 1, 1, 1, 1, 1, 1, 1, 1, 1, 1, 1, 1, 1, 1, 1, 1, 1, 1, 1, 1, 1,\n",
       "       1, 1, 1, 1, 1, 1, 1, 1, 1, 1, 1, 1, 1, 1, 1, 1, 1, 1, 1, 1, 1, 1,\n",
       "       1, 1, 1, 1, 1, 1, 1, 1, 1, 1, 1, 1, 1, 1, 1, 1, 1, 1, 1, 1, 1, 1,\n",
       "       1, 1, 1, 1, 1, 1, 1, 1, 1, 1, 1, 1, 1, 1, 1, 1, 1, 1, 1, 1, 1, 1,\n",
       "       1, 1, 1, 1, 1, 1, 1, 1, 1, 1, 0, 0, 0, 0, 0, 0, 0, 0, 0, 0, 0, 0,\n",
       "       0, 0, 0, 0, 0, 0, 0, 0, 0, 0, 0, 0, 0, 0, 0, 0, 0, 0, 0, 0, 0, 0,\n",
       "       0, 0, 0, 0, 0, 0, 0, 0, 0, 0, 0, 0, 0, 0, 0, 0, 0, 0, 0, 0, 0, 0,\n",
       "       0, 0, 0, 0, 0, 0, 0, 0, 0, 0, 0, 0, 0, 0, 0, 0, 0, 0, 0, 0, 0, 0,\n",
       "       0, 0, 0, 0, 0, 0, 0, 0, 0, 0, 0, 0, 0, 0, 0, 0, 0, 0, 0, 0, 0, 0,\n",
       "       0, 0, 0, 0, 0, 0, 0, 0, 0, 0, 0, 0, 0, 0, 0, 0, 0, 0, 0, 0, 0, 0,\n",
       "       0, 0, 0, 0, 0, 0, 0, 0, 0, 0, 0, 0, 0, 0, 0, 0], dtype=int64)"
      ]
     },
     "execution_count": 20,
     "metadata": {},
     "output_type": "execute_result"
    }
   ],
   "source": [
    "# O target dos dados anteriore\n",
    "y_dados = df['output'].values\n",
    "y_dados"
   ]
  },
  {
   "cell_type": "code",
   "execution_count": 21,
   "id": "4342b92d-bd19-491b-bfa6-d8bf3afabfb8",
   "metadata": {},
   "outputs": [
    {
     "name": "stdout",
     "output_type": "stream",
     "text": [
      "302 302\n"
     ]
    }
   ],
   "source": [
    "print(len(X_dados), len(y_dados))"
   ]
  },
  {
   "cell_type": "code",
   "execution_count": 22,
   "id": "6e47485c-8ba4-4a4e-b227-35e7b25205c8",
   "metadata": {},
   "outputs": [
    {
     "name": "stdout",
     "output_type": "stream",
     "text": [
      "Counter({1: 164, 0: 138})\n"
     ]
    }
   ],
   "source": [
    "# Outra forma de verificar o balanceamento, que nesse caso está desbalanceado.\n",
    "import collections\n",
    "print(collections.Counter(y_dados))"
   ]
  },
  {
   "cell_type": "markdown",
   "id": "7076f08d-61be-4fc9-a58c-b77c73387ee6",
   "metadata": {},
   "source": [
    "### Criando função para balancear os dados\n",
    "\n",
    "UnderSampler é um método consiste em reduzir o número de observações da classe majoritária para diminuir a diferença entre as categorias."
   ]
  },
  {
   "cell_type": "code",
   "execution_count": 23,
   "id": "d6f4071a-0a74-4e7e-9ddd-cbc9cb043d41",
   "metadata": {},
   "outputs": [],
   "source": [
    "def balanceamento_dados(X_dados, y_dados):\n",
    "    undersample = RandomUnderSampler(random_state = 42)\n",
    "    X_under, y_under = undersample.fit_resample(X_dados, y_dados)\n",
    "    \n",
    "    tl = TomekLinks(sampling_strategy='all') #trabalha com outliers\n",
    "    X_under, y_under  = tl.fit_resample(X_under, y_under)\n",
    "    return X_under, y_under"
   ]
  },
  {
   "cell_type": "markdown",
   "id": "39f68e07-8c57-469e-8680-86e710f061f2",
   "metadata": {},
   "source": [
    "### Aplicando técnica de balanceamento na base de dados"
   ]
  },
  {
   "cell_type": "code",
   "execution_count": 24,
   "id": "c85be9d6-2545-4b71-960c-3a5f5b1528f9",
   "metadata": {},
   "outputs": [],
   "source": [
    "X_dados_balanceados, y_dados_balanceados = balanceamento_dados(X_dados, y_dados)"
   ]
  },
  {
   "cell_type": "markdown",
   "id": "73fc537a-f19b-42cc-a21f-1e81fb36edbf",
   "metadata": {},
   "source": [
    "### Verificando balanceamento realizado"
   ]
  },
  {
   "cell_type": "code",
   "execution_count": 25,
   "id": "39dd26af-1f21-4cd0-9453-4cabff19d568",
   "metadata": {},
   "outputs": [
    {
     "name": "stdout",
     "output_type": "stream",
     "text": [
      "220 220\n"
     ]
    }
   ],
   "source": [
    "print(len(X_dados_balanceados), len(y_dados_balanceados))"
   ]
  },
  {
   "cell_type": "markdown",
   "id": "c3e75c92-6c25-4567-b972-24c1f06c3406",
   "metadata": {},
   "source": [
    "### Separando base de treino e teste"
   ]
  },
  {
   "cell_type": "code",
   "execution_count": 26,
   "id": "89433f2f-34d3-4f73-9195-a5eb810f774f",
   "metadata": {},
   "outputs": [],
   "source": [
    "def separa_treino_teste(X_dados_balanceados, y_dados_balanceados):\n",
    "    X_train, X_test, y_train, y_test = train_test_split(X_dados_balanceados, \n",
    "                                                        y_dados_balanceados,\n",
    "                                                        random_state=42,\n",
    "                                                        test_size=0.2) # 80% para teste e 20% para teste\n",
    "    return X_train, X_test, y_train, y_test"
   ]
  },
  {
   "cell_type": "code",
   "execution_count": 27,
   "id": "08ae719b-2b15-4376-92d8-0fb21a15e5fc",
   "metadata": {},
   "outputs": [],
   "source": [
    "# Separando conjuntos de treino e teste\n",
    "X_train, X_test, y_train, y_test = separa_treino_teste(X_dados_balanceados, y_dados_balanceados)"
   ]
  },
  {
   "cell_type": "markdown",
   "id": "796728c0-20d8-4106-86c9-793b269144a3",
   "metadata": {},
   "source": [
    "### Criando modelo de RandomForest"
   ]
  },
  {
   "cell_type": "code",
   "execution_count": 28,
   "id": "8f730c50-6995-4675-9e70-ec7baf98ec5b",
   "metadata": {},
   "outputs": [],
   "source": [
    "from sklearn.ensemble import RandomForestClassifier\n",
    "\n",
    "# Criar o classificador Random Forest\n",
    "classifier = RandomForestClassifier(random_state=42)\n",
    "\n",
    "# Cria modelo de classificação\n",
    "modelo = classifier.fit(X_train, y_train)\n",
    "\n",
    "# Realiza predições\n",
    "y_pred = modelo.predict(X_test)"
   ]
  },
  {
   "cell_type": "code",
   "execution_count": 49,
   "id": "b586465c-37b5-4340-9163-a4da1e15539b",
   "metadata": {},
   "outputs": [
    {
     "data": {
      "text/html": [
       "<div>\n",
       "<style scoped>\n",
       "    .dataframe tbody tr th:only-of-type {\n",
       "        vertical-align: middle;\n",
       "    }\n",
       "\n",
       "    .dataframe tbody tr th {\n",
       "        vertical-align: top;\n",
       "    }\n",
       "\n",
       "    .dataframe thead th {\n",
       "        text-align: right;\n",
       "    }\n",
       "</style>\n",
       "<table border=\"1\" class=\"dataframe\">\n",
       "  <thead>\n",
       "    <tr style=\"text-align: right;\">\n",
       "      <th></th>\n",
       "      <th>age</th>\n",
       "      <th>sex</th>\n",
       "      <th>cp</th>\n",
       "      <th>trtbps</th>\n",
       "      <th>chol</th>\n",
       "      <th>fbs</th>\n",
       "      <th>restecg</th>\n",
       "      <th>thalachh</th>\n",
       "      <th>exng</th>\n",
       "      <th>oldpeak</th>\n",
       "      <th>slp</th>\n",
       "      <th>caa</th>\n",
       "      <th>thall</th>\n",
       "      <th>output</th>\n",
       "    </tr>\n",
       "  </thead>\n",
       "  <tbody>\n",
       "    <tr>\n",
       "      <th>count</th>\n",
       "      <td>302.00000</td>\n",
       "      <td>302.000000</td>\n",
       "      <td>302.000000</td>\n",
       "      <td>302.000000</td>\n",
       "      <td>302.000000</td>\n",
       "      <td>302.000000</td>\n",
       "      <td>302.000000</td>\n",
       "      <td>302.000000</td>\n",
       "      <td>302.000000</td>\n",
       "      <td>302.000000</td>\n",
       "      <td>302.000000</td>\n",
       "      <td>302.000000</td>\n",
       "      <td>302.000000</td>\n",
       "      <td>302.000000</td>\n",
       "    </tr>\n",
       "    <tr>\n",
       "      <th>mean</th>\n",
       "      <td>54.42053</td>\n",
       "      <td>0.682119</td>\n",
       "      <td>0.963576</td>\n",
       "      <td>131.602649</td>\n",
       "      <td>246.500000</td>\n",
       "      <td>0.149007</td>\n",
       "      <td>0.526490</td>\n",
       "      <td>149.569536</td>\n",
       "      <td>0.327815</td>\n",
       "      <td>1.043046</td>\n",
       "      <td>1.397351</td>\n",
       "      <td>0.718543</td>\n",
       "      <td>2.314570</td>\n",
       "      <td>0.543046</td>\n",
       "    </tr>\n",
       "    <tr>\n",
       "      <th>std</th>\n",
       "      <td>9.04797</td>\n",
       "      <td>0.466426</td>\n",
       "      <td>1.032044</td>\n",
       "      <td>17.563394</td>\n",
       "      <td>51.753489</td>\n",
       "      <td>0.356686</td>\n",
       "      <td>0.526027</td>\n",
       "      <td>22.903527</td>\n",
       "      <td>0.470196</td>\n",
       "      <td>1.161452</td>\n",
       "      <td>0.616274</td>\n",
       "      <td>1.006748</td>\n",
       "      <td>0.613026</td>\n",
       "      <td>0.498970</td>\n",
       "    </tr>\n",
       "    <tr>\n",
       "      <th>min</th>\n",
       "      <td>29.00000</td>\n",
       "      <td>0.000000</td>\n",
       "      <td>0.000000</td>\n",
       "      <td>94.000000</td>\n",
       "      <td>126.000000</td>\n",
       "      <td>0.000000</td>\n",
       "      <td>0.000000</td>\n",
       "      <td>71.000000</td>\n",
       "      <td>0.000000</td>\n",
       "      <td>0.000000</td>\n",
       "      <td>0.000000</td>\n",
       "      <td>0.000000</td>\n",
       "      <td>0.000000</td>\n",
       "      <td>0.000000</td>\n",
       "    </tr>\n",
       "    <tr>\n",
       "      <th>25%</th>\n",
       "      <td>48.00000</td>\n",
       "      <td>0.000000</td>\n",
       "      <td>0.000000</td>\n",
       "      <td>120.000000</td>\n",
       "      <td>211.000000</td>\n",
       "      <td>0.000000</td>\n",
       "      <td>0.000000</td>\n",
       "      <td>133.250000</td>\n",
       "      <td>0.000000</td>\n",
       "      <td>0.000000</td>\n",
       "      <td>1.000000</td>\n",
       "      <td>0.000000</td>\n",
       "      <td>2.000000</td>\n",
       "      <td>0.000000</td>\n",
       "    </tr>\n",
       "    <tr>\n",
       "      <th>50%</th>\n",
       "      <td>55.50000</td>\n",
       "      <td>1.000000</td>\n",
       "      <td>1.000000</td>\n",
       "      <td>130.000000</td>\n",
       "      <td>240.500000</td>\n",
       "      <td>0.000000</td>\n",
       "      <td>1.000000</td>\n",
       "      <td>152.500000</td>\n",
       "      <td>0.000000</td>\n",
       "      <td>0.800000</td>\n",
       "      <td>1.000000</td>\n",
       "      <td>0.000000</td>\n",
       "      <td>2.000000</td>\n",
       "      <td>1.000000</td>\n",
       "    </tr>\n",
       "    <tr>\n",
       "      <th>75%</th>\n",
       "      <td>61.00000</td>\n",
       "      <td>1.000000</td>\n",
       "      <td>2.000000</td>\n",
       "      <td>140.000000</td>\n",
       "      <td>274.750000</td>\n",
       "      <td>0.000000</td>\n",
       "      <td>1.000000</td>\n",
       "      <td>166.000000</td>\n",
       "      <td>1.000000</td>\n",
       "      <td>1.600000</td>\n",
       "      <td>2.000000</td>\n",
       "      <td>1.000000</td>\n",
       "      <td>3.000000</td>\n",
       "      <td>1.000000</td>\n",
       "    </tr>\n",
       "    <tr>\n",
       "      <th>max</th>\n",
       "      <td>77.00000</td>\n",
       "      <td>1.000000</td>\n",
       "      <td>3.000000</td>\n",
       "      <td>200.000000</td>\n",
       "      <td>564.000000</td>\n",
       "      <td>1.000000</td>\n",
       "      <td>2.000000</td>\n",
       "      <td>202.000000</td>\n",
       "      <td>1.000000</td>\n",
       "      <td>6.200000</td>\n",
       "      <td>2.000000</td>\n",
       "      <td>4.000000</td>\n",
       "      <td>3.000000</td>\n",
       "      <td>1.000000</td>\n",
       "    </tr>\n",
       "  </tbody>\n",
       "</table>\n",
       "</div>"
      ],
      "text/plain": [
       "             age         sex          cp      trtbps        chol         fbs  \\\n",
       "count  302.00000  302.000000  302.000000  302.000000  302.000000  302.000000   \n",
       "mean    54.42053    0.682119    0.963576  131.602649  246.500000    0.149007   \n",
       "std      9.04797    0.466426    1.032044   17.563394   51.753489    0.356686   \n",
       "min     29.00000    0.000000    0.000000   94.000000  126.000000    0.000000   \n",
       "25%     48.00000    0.000000    0.000000  120.000000  211.000000    0.000000   \n",
       "50%     55.50000    1.000000    1.000000  130.000000  240.500000    0.000000   \n",
       "75%     61.00000    1.000000    2.000000  140.000000  274.750000    0.000000   \n",
       "max     77.00000    1.000000    3.000000  200.000000  564.000000    1.000000   \n",
       "\n",
       "          restecg    thalachh        exng     oldpeak         slp         caa  \\\n",
       "count  302.000000  302.000000  302.000000  302.000000  302.000000  302.000000   \n",
       "mean     0.526490  149.569536    0.327815    1.043046    1.397351    0.718543   \n",
       "std      0.526027   22.903527    0.470196    1.161452    0.616274    1.006748   \n",
       "min      0.000000   71.000000    0.000000    0.000000    0.000000    0.000000   \n",
       "25%      0.000000  133.250000    0.000000    0.000000    1.000000    0.000000   \n",
       "50%      1.000000  152.500000    0.000000    0.800000    1.000000    0.000000   \n",
       "75%      1.000000  166.000000    1.000000    1.600000    2.000000    1.000000   \n",
       "max      2.000000  202.000000    1.000000    6.200000    2.000000    4.000000   \n",
       "\n",
       "            thall      output  \n",
       "count  302.000000  302.000000  \n",
       "mean     2.314570    0.543046  \n",
       "std      0.613026    0.498970  \n",
       "min      0.000000    0.000000  \n",
       "25%      2.000000    0.000000  \n",
       "50%      2.000000    1.000000  \n",
       "75%      3.000000    1.000000  \n",
       "max      3.000000    1.000000  "
      ]
     },
     "execution_count": 49,
     "metadata": {},
     "output_type": "execute_result"
    }
   ],
   "source": [
    "df.describe()"
   ]
  },
  {
   "cell_type": "code",
   "execution_count": 47,
   "id": "5eebb006-bfd1-4c2e-bb63-0c3035b7b25f",
   "metadata": {},
   "outputs": [
    {
     "data": {
      "text/html": [
       "<div>\n",
       "<style scoped>\n",
       "    .dataframe tbody tr th:only-of-type {\n",
       "        vertical-align: middle;\n",
       "    }\n",
       "\n",
       "    .dataframe tbody tr th {\n",
       "        vertical-align: top;\n",
       "    }\n",
       "\n",
       "    .dataframe thead th {\n",
       "        text-align: right;\n",
       "    }\n",
       "</style>\n",
       "<table border=\"1\" class=\"dataframe\">\n",
       "  <thead>\n",
       "    <tr style=\"text-align: right;\">\n",
       "      <th></th>\n",
       "      <th>importancia</th>\n",
       "    </tr>\n",
       "  </thead>\n",
       "  <tbody>\n",
       "    <tr>\n",
       "      <th>thalachh</th>\n",
       "      <td>0.126951</td>\n",
       "    </tr>\n",
       "    <tr>\n",
       "      <th>cp</th>\n",
       "      <td>0.125280</td>\n",
       "    </tr>\n",
       "    <tr>\n",
       "      <th>caa</th>\n",
       "      <td>0.120775</td>\n",
       "    </tr>\n",
       "    <tr>\n",
       "      <th>thall</th>\n",
       "      <td>0.117353</td>\n",
       "    </tr>\n",
       "    <tr>\n",
       "      <th>oldpeak</th>\n",
       "      <td>0.109878</td>\n",
       "    </tr>\n",
       "    <tr>\n",
       "      <th>age</th>\n",
       "      <td>0.079217</td>\n",
       "    </tr>\n",
       "    <tr>\n",
       "      <th>chol</th>\n",
       "      <td>0.079063</td>\n",
       "    </tr>\n",
       "    <tr>\n",
       "      <th>trtbps</th>\n",
       "      <td>0.072934</td>\n",
       "    </tr>\n",
       "    <tr>\n",
       "      <th>exng</th>\n",
       "      <td>0.056606</td>\n",
       "    </tr>\n",
       "    <tr>\n",
       "      <th>slp</th>\n",
       "      <td>0.056349</td>\n",
       "    </tr>\n",
       "    <tr>\n",
       "      <th>sex</th>\n",
       "      <td>0.032056</td>\n",
       "    </tr>\n",
       "    <tr>\n",
       "      <th>restecg</th>\n",
       "      <td>0.016024</td>\n",
       "    </tr>\n",
       "    <tr>\n",
       "      <th>fbs</th>\n",
       "      <td>0.007514</td>\n",
       "    </tr>\n",
       "  </tbody>\n",
       "</table>\n",
       "</div>"
      ],
      "text/plain": [
       "          importancia\n",
       "thalachh     0.126951\n",
       "cp           0.125280\n",
       "caa          0.120775\n",
       "thall        0.117353\n",
       "oldpeak      0.109878\n",
       "age          0.079217\n",
       "chol         0.079063\n",
       "trtbps       0.072934\n",
       "exng         0.056606\n",
       "slp          0.056349\n",
       "sex          0.032056\n",
       "restecg      0.016024\n",
       "fbs          0.007514"
      ]
     },
     "execution_count": 47,
     "metadata": {},
     "output_type": "execute_result"
    }
   ],
   "source": [
    "pd.DataFrame(modelo.feature_importances_, columns=['importancia'], \n",
    "             index = ['age', 'sex', 'cp', 'trtbps', 'chol', 'fbs', 'restecg', 'thalachh', 'exng',\n",
    "                      'oldpeak', 'slp', 'caa', 'thall']).sort_values('importancia', ascending=False)"
   ]
  },
  {
   "cell_type": "markdown",
   "id": "a64ffd0f-35e9-483a-ae87-14c1d4bd8486",
   "metadata": {},
   "source": [
    "### Calculando a acurácia do modelo"
   ]
  },
  {
   "cell_type": "code",
   "execution_count": 30,
   "id": "783e4632-8dc1-4d17-981d-79888e8de4e3",
   "metadata": {},
   "outputs": [
    {
     "name": "stdout",
     "output_type": "stream",
     "text": [
      "Precisão(%):  0.8409090909090909\n"
     ]
    }
   ],
   "source": [
    "acuraria = accuracy_score(y_test, y_pred)\n",
    "print('Precisão(%): ', acuraria)"
   ]
  },
  {
   "cell_type": "markdown",
   "id": "efba9c0f-d03f-449c-8bf6-d0b6285ecdaf",
   "metadata": {},
   "source": [
    "### Criando matriz de confusão"
   ]
  },
  {
   "cell_type": "code",
   "execution_count": 31,
   "id": "042c91c6-bbba-44ed-a623-b653a0401df0",
   "metadata": {},
   "outputs": [],
   "source": [
    "# Criando matriz de coonfusão\n",
    "cm = confusion_matrix(y_test, y_pred)"
   ]
  },
  {
   "cell_type": "code",
   "execution_count": 32,
   "id": "16d635e8-977f-4857-95bc-6104c0eabaa4",
   "metadata": {},
   "outputs": [
    {
     "data": {
      "text/plain": [
       "array([[17,  5],\n",
       "       [ 2, 20]], dtype=int64)"
      ]
     },
     "execution_count": 32,
     "metadata": {},
     "output_type": "execute_result"
    }
   ],
   "source": [
    "cm"
   ]
  },
  {
   "cell_type": "markdown",
   "id": "50f3ca36-1358-4ea4-8a3d-f388d480c4cb",
   "metadata": {},
   "source": [
    "## Questionário\n",
    "***"
   ]
  },
  {
   "cell_type": "markdown",
   "id": "6d1fe999-abc7-4791-b0b5-c31126c291e8",
   "metadata": {},
   "source": [
    "Pergunta 1: Após a execução dos procedimentos de tratamento de dados, responda: os dados no conjunto de dados estão balanceados?"
   ]
  },
  {
   "cell_type": "code",
   "execution_count": 33,
   "id": "010e6720-9526-4f75-ab2d-c9c3071b0cab",
   "metadata": {},
   "outputs": [
    {
     "data": {
      "text/plain": [
       "output\n",
       "0    138\n",
       "1    164\n",
       "Name: output, dtype: int64"
      ]
     },
     "execution_count": 33,
     "metadata": {},
     "output_type": "execute_result"
    }
   ],
   "source": [
    "df.groupby(['output'])['output'].count()"
   ]
  },
  {
   "cell_type": "markdown",
   "id": "8f549588-4d33-4d83-8c13-5b1837e76266",
   "metadata": {},
   "source": [
    "Resposta: Os dados não estão balanceados\n",
    "***"
   ]
  },
  {
   "cell_type": "markdown",
   "id": "d94b85d7-ced3-44ac-bbcd-a6d6283a1c3e",
   "metadata": {},
   "source": [
    "Pergunta 2: Elabore um gráfico de dispersão, inserindo a variável de colesterol (chol) no eixo x e a variável de frequência cardíaca (thalachh) máxima no eixo y. Posteriormente, selecione o gráfico que melhor representa essa relação."
   ]
  },
  {
   "cell_type": "code",
   "execution_count": 35,
   "id": "6603923c-729d-47b4-bf11-980f92cc7707",
   "metadata": {},
   "outputs": [
    {
     "data": {
      "image/png": "[encoded data removed]",
      "text/plain": [
       "<Figure size 700x500 with 1 Axes>"
      ]
     },
     "metadata": {},
     "output_type": "display_data"
    }
   ],
   "source": [
    "plt.figure(figsize=(7,5))\n",
    "plt.title('Gráfico Dispersão', size=10)\n",
    "sns.scatterplot(data=df,\n",
    "                x='chol',\n",
    "                y='thalachh'\n",
    ")\n",
    "plt.xlabel('Colesterol')\n",
    "plt.ylabel('Frequência Cardíaca Máxima')\n",
    "\n",
    "plt.show()"
   ]
  },
  {
   "cell_type": "markdown",
   "id": "e1c46405-17fb-4bcf-8439-975be3531dbd",
   "metadata": {},
   "source": [
    "Resposta: Gráfico 1 nas opções.\n",
    "***"
   ]
  },
  {
   "cell_type": "markdown",
   "id": "153455ef-27b7-4bad-8bc8-d8ae13571894",
   "metadata": {},
   "source": [
    "Pergunta 3: Realize uma análise de correlação entre os dados e forneça a resposta mais pertinente entre as opções disponíveis."
   ]
  },
  {
   "cell_type": "code",
   "execution_count": 36,
   "id": "6b1af8ef-7eea-4597-bdb1-716faa81a047",
   "metadata": {},
   "outputs": [
    {
     "name": "stdout",
     "output_type": "stream",
     "text": [
      "               age       sex        cp    trtbps      chol       fbs  \\\n",
      "age       1.000000 -0.094962 -0.063107  0.283121  0.207216  0.119492   \n",
      "sex      -0.094962  1.000000 -0.051740 -0.057647 -0.195571  0.046022   \n",
      "cp       -0.063107 -0.051740  1.000000  0.046486 -0.072682  0.096018   \n",
      "trtbps    0.283121 -0.057647  0.046486  1.000000  0.125256  0.178125   \n",
      "chol      0.207216 -0.195571 -0.072682  0.125256  1.000000  0.011428   \n",
      "fbs       0.119492  0.046022  0.096018  0.178125  0.011428  1.000000   \n",
      "restecg  -0.111590 -0.060351  0.041561 -0.115367 -0.147602 -0.083081   \n",
      "thalachh -0.395235 -0.046439  0.293367 -0.048023 -0.005308 -0.007169   \n",
      "exng      0.093216  0.143460 -0.392937  0.068526  0.064099  0.024729   \n",
      "oldpeak   0.206040  0.098322 -0.146692  0.194600  0.050086  0.004514   \n",
      "slp      -0.164124 -0.032990  0.116854 -0.122873  0.000417 -0.058654   \n",
      "caa       0.302261  0.113060 -0.195356  0.099248  0.086878  0.144935   \n",
      "thall     0.065317  0.211452 -0.160370  0.062870  0.096810 -0.032752   \n",
      "output   -0.221476 -0.283609  0.432080 -0.146269 -0.081437 -0.026826   \n",
      "\n",
      "           restecg  thalachh      exng   oldpeak       slp       caa  \\\n",
      "age      -0.111590 -0.395235  0.093216  0.206040 -0.164124  0.302261   \n",
      "sex      -0.060351 -0.046439  0.143460  0.098322 -0.032990  0.113060   \n",
      "cp        0.041561  0.293367 -0.392937 -0.146692  0.116854 -0.195356   \n",
      "trtbps   -0.115367 -0.048023  0.068526  0.194600 -0.122873  0.099248   \n",
      "chol     -0.147602 -0.005308  0.064099  0.050086  0.000417  0.086878   \n",
      "fbs      -0.083081 -0.007169  0.024729  0.004514 -0.058654  0.144935   \n",
      "restecg   1.000000  0.041210 -0.068807 -0.056251  0.090402 -0.083112   \n",
      "thalachh  0.041210  1.000000 -0.377411 -0.342201  0.384754 -0.228311   \n",
      "exng     -0.068807 -0.377411  1.000000  0.286766 -0.256106  0.125377   \n",
      "oldpeak  -0.056251 -0.342201  0.286766  1.000000 -0.576314  0.236560   \n",
      "slp       0.090402  0.384754 -0.256106 -0.576314  1.000000 -0.092236   \n",
      "caa      -0.083112 -0.228311  0.125377  0.236560 -0.092236  1.000000   \n",
      "thall    -0.010473 -0.094910  0.205826  0.209090 -0.103314  0.160085   \n",
      "output    0.134874  0.419955 -0.435601 -0.429146  0.343940 -0.408992   \n",
      "\n",
      "             thall    output  \n",
      "age       0.065317 -0.221476  \n",
      "sex       0.211452 -0.283609  \n",
      "cp       -0.160370  0.432080  \n",
      "trtbps    0.062870 -0.146269  \n",
      "chol      0.096810 -0.081437  \n",
      "fbs      -0.032752 -0.026826  \n",
      "restecg  -0.010473  0.134874  \n",
      "thalachh -0.094910  0.419955  \n",
      "exng      0.205826 -0.435601  \n",
      "oldpeak   0.209090 -0.429146  \n",
      "slp      -0.103314  0.343940  \n",
      "caa       0.160085 -0.408992  \n",
      "thall     1.000000 -0.343101  \n",
      "output   -0.343101  1.000000  \n"
     ]
    }
   ],
   "source": [
    "# Calculando a matriz de correlação\n",
    "correlation_matrix = df.corr()\n",
    "\n",
    "# Visualizando a matriz de correlação\n",
    "print(correlation_matrix)"
   ]
  },
  {
   "cell_type": "markdown",
   "id": "7e80fd7c-9d7b-4391-a327-35b5c73b0531",
   "metadata": {},
   "source": [
    "Resposta: A idade (age) possui correlação positiva em relação a variável pressão arterial.\n",
    "***\n"
   ]
  },
  {
   "cell_type": "markdown",
   "id": "4f72c9a5-efe8-4c5c-b004-15e42fcbf4e4",
   "metadata": {},
   "source": [
    "Pergunta 4: está repetida, igual a 1.\n",
    "***"
   ]
  },
  {
   "cell_type": "markdown",
   "id": "ebef3f3a-205a-4ddf-8910-19ba2fb3bc5a",
   "metadata": {},
   "source": [
    "Pergunta 5: Teórica, sem análise dos dados em si, apenas conceitos. \n",
    "***"
   ]
  },
  {
   "cell_type": "markdown",
   "id": "dc881343-b9c2-4c79-b12a-371ce47eb1fd",
   "metadata": {},
   "source": [
    "Pergunta 6: Qual foi a quantidade de registros selecionado para o treinamento do modelo?"
   ]
  },
  {
   "cell_type": "code",
   "execution_count": 37,
   "id": "ab156ce6-6d0a-4b7f-9779-54caec658973",
   "metadata": {},
   "outputs": [
    {
     "name": "stdout",
     "output_type": "stream",
     "text": [
      "Registros selecionados para treinamento: 176\n"
     ]
    }
   ],
   "source": [
    "# 80% dos registros foram selecionados paras treinamento.\n",
    "print(f'Registros selecionados para treinamento: {int(len(X_dados_balanceados) * 0.8)}')"
   ]
  },
  {
   "cell_type": "markdown",
   "id": "b98227b6-ee16-4a69-8d9d-bcad228a1acb",
   "metadata": {},
   "source": [
    "***"
   ]
  },
  {
   "cell_type": "markdown",
   "id": "63c277d8-730d-4471-8c02-78d154846970",
   "metadata": {},
   "source": [
    "Pergunta 7: Qual é a média das idades dos pacientes?"
   ]
  },
  {
   "cell_type": "code",
   "execution_count": 38,
   "id": "2c91e383-489d-4910-8701-5b8a34198e63",
   "metadata": {},
   "outputs": [
    {
     "data": {
      "text/html": [
       "<div>\n",
       "<style scoped>\n",
       "    .dataframe tbody tr th:only-of-type {\n",
       "        vertical-align: middle;\n",
       "    }\n",
       "\n",
       "    .dataframe tbody tr th {\n",
       "        vertical-align: top;\n",
       "    }\n",
       "\n",
       "    .dataframe thead th {\n",
       "        text-align: right;\n",
       "    }\n",
       "</style>\n",
       "<table border=\"1\" class=\"dataframe\">\n",
       "  <thead>\n",
       "    <tr style=\"text-align: right;\">\n",
       "      <th></th>\n",
       "      <th>age</th>\n",
       "      <th>sex</th>\n",
       "      <th>cp</th>\n",
       "      <th>trtbps</th>\n",
       "      <th>chol</th>\n",
       "      <th>fbs</th>\n",
       "      <th>restecg</th>\n",
       "      <th>thalachh</th>\n",
       "      <th>exng</th>\n",
       "      <th>oldpeak</th>\n",
       "      <th>slp</th>\n",
       "      <th>caa</th>\n",
       "      <th>thall</th>\n",
       "      <th>output</th>\n",
       "    </tr>\n",
       "  </thead>\n",
       "  <tbody>\n",
       "    <tr>\n",
       "      <th>count</th>\n",
       "      <td>302.00</td>\n",
       "      <td>302.00</td>\n",
       "      <td>302.00</td>\n",
       "      <td>302.00</td>\n",
       "      <td>302.00</td>\n",
       "      <td>302.00</td>\n",
       "      <td>302.00</td>\n",
       "      <td>302.00</td>\n",
       "      <td>302.00</td>\n",
       "      <td>302.00</td>\n",
       "      <td>302.00</td>\n",
       "      <td>302.00</td>\n",
       "      <td>302.00</td>\n",
       "      <td>302.00</td>\n",
       "    </tr>\n",
       "    <tr>\n",
       "      <th>mean</th>\n",
       "      <td>54.42</td>\n",
       "      <td>0.68</td>\n",
       "      <td>0.96</td>\n",
       "      <td>131.60</td>\n",
       "      <td>246.50</td>\n",
       "      <td>0.15</td>\n",
       "      <td>0.53</td>\n",
       "      <td>149.57</td>\n",
       "      <td>0.33</td>\n",
       "      <td>1.04</td>\n",
       "      <td>1.40</td>\n",
       "      <td>0.72</td>\n",
       "      <td>2.31</td>\n",
       "      <td>0.54</td>\n",
       "    </tr>\n",
       "    <tr>\n",
       "      <th>std</th>\n",
       "      <td>9.05</td>\n",
       "      <td>0.47</td>\n",
       "      <td>1.03</td>\n",
       "      <td>17.56</td>\n",
       "      <td>51.75</td>\n",
       "      <td>0.36</td>\n",
       "      <td>0.53</td>\n",
       "      <td>22.90</td>\n",
       "      <td>0.47</td>\n",
       "      <td>1.16</td>\n",
       "      <td>0.62</td>\n",
       "      <td>1.01</td>\n",
       "      <td>0.61</td>\n",
       "      <td>0.50</td>\n",
       "    </tr>\n",
       "    <tr>\n",
       "      <th>min</th>\n",
       "      <td>29.00</td>\n",
       "      <td>0.00</td>\n",
       "      <td>0.00</td>\n",
       "      <td>94.00</td>\n",
       "      <td>126.00</td>\n",
       "      <td>0.00</td>\n",
       "      <td>0.00</td>\n",
       "      <td>71.00</td>\n",
       "      <td>0.00</td>\n",
       "      <td>0.00</td>\n",
       "      <td>0.00</td>\n",
       "      <td>0.00</td>\n",
       "      <td>0.00</td>\n",
       "      <td>0.00</td>\n",
       "    </tr>\n",
       "    <tr>\n",
       "      <th>25%</th>\n",
       "      <td>48.00</td>\n",
       "      <td>0.00</td>\n",
       "      <td>0.00</td>\n",
       "      <td>120.00</td>\n",
       "      <td>211.00</td>\n",
       "      <td>0.00</td>\n",
       "      <td>0.00</td>\n",
       "      <td>133.25</td>\n",
       "      <td>0.00</td>\n",
       "      <td>0.00</td>\n",
       "      <td>1.00</td>\n",
       "      <td>0.00</td>\n",
       "      <td>2.00</td>\n",
       "      <td>0.00</td>\n",
       "    </tr>\n",
       "    <tr>\n",
       "      <th>50%</th>\n",
       "      <td>55.50</td>\n",
       "      <td>1.00</td>\n",
       "      <td>1.00</td>\n",
       "      <td>130.00</td>\n",
       "      <td>240.50</td>\n",
       "      <td>0.00</td>\n",
       "      <td>1.00</td>\n",
       "      <td>152.50</td>\n",
       "      <td>0.00</td>\n",
       "      <td>0.80</td>\n",
       "      <td>1.00</td>\n",
       "      <td>0.00</td>\n",
       "      <td>2.00</td>\n",
       "      <td>1.00</td>\n",
       "    </tr>\n",
       "    <tr>\n",
       "      <th>75%</th>\n",
       "      <td>61.00</td>\n",
       "      <td>1.00</td>\n",
       "      <td>2.00</td>\n",
       "      <td>140.00</td>\n",
       "      <td>274.75</td>\n",
       "      <td>0.00</td>\n",
       "      <td>1.00</td>\n",
       "      <td>166.00</td>\n",
       "      <td>1.00</td>\n",
       "      <td>1.60</td>\n",
       "      <td>2.00</td>\n",
       "      <td>1.00</td>\n",
       "      <td>3.00</td>\n",
       "      <td>1.00</td>\n",
       "    </tr>\n",
       "    <tr>\n",
       "      <th>max</th>\n",
       "      <td>77.00</td>\n",
       "      <td>1.00</td>\n",
       "      <td>3.00</td>\n",
       "      <td>200.00</td>\n",
       "      <td>564.00</td>\n",
       "      <td>1.00</td>\n",
       "      <td>2.00</td>\n",
       "      <td>202.00</td>\n",
       "      <td>1.00</td>\n",
       "      <td>6.20</td>\n",
       "      <td>2.00</td>\n",
       "      <td>4.00</td>\n",
       "      <td>3.00</td>\n",
       "      <td>1.00</td>\n",
       "    </tr>\n",
       "  </tbody>\n",
       "</table>\n",
       "</div>"
      ],
      "text/plain": [
       "          age     sex      cp  trtbps    chol     fbs  restecg  thalachh  \\\n",
       "count  302.00  302.00  302.00  302.00  302.00  302.00   302.00    302.00   \n",
       "mean    54.42    0.68    0.96  131.60  246.50    0.15     0.53    149.57   \n",
       "std      9.05    0.47    1.03   17.56   51.75    0.36     0.53     22.90   \n",
       "min     29.00    0.00    0.00   94.00  126.00    0.00     0.00     71.00   \n",
       "25%     48.00    0.00    0.00  120.00  211.00    0.00     0.00    133.25   \n",
       "50%     55.50    1.00    1.00  130.00  240.50    0.00     1.00    152.50   \n",
       "75%     61.00    1.00    2.00  140.00  274.75    0.00     1.00    166.00   \n",
       "max     77.00    1.00    3.00  200.00  564.00    1.00     2.00    202.00   \n",
       "\n",
       "         exng  oldpeak     slp     caa   thall  output  \n",
       "count  302.00   302.00  302.00  302.00  302.00  302.00  \n",
       "mean     0.33     1.04    1.40    0.72    2.31    0.54  \n",
       "std      0.47     1.16    0.62    1.01    0.61    0.50  \n",
       "min      0.00     0.00    0.00    0.00    0.00    0.00  \n",
       "25%      0.00     0.00    1.00    0.00    2.00    0.00  \n",
       "50%      0.00     0.80    1.00    0.00    2.00    1.00  \n",
       "75%      1.00     1.60    2.00    1.00    3.00    1.00  \n",
       "max      1.00     6.20    2.00    4.00    3.00    1.00  "
      ]
     },
     "execution_count": 38,
     "metadata": {},
     "output_type": "execute_result"
    }
   ],
   "source": [
    "round(df.describe(),2)"
   ]
  },
  {
   "cell_type": "markdown",
   "id": "45b17a98-7e67-46db-82c9-94ba60d1f92c",
   "metadata": {},
   "source": [
    "Resposta: 54.42 que é a média da coluna age(idade)\n",
    "***"
   ]
  },
  {
   "cell_type": "markdown",
   "id": "e1a4afe9-0937-40eb-b66c-bc9e0328541c",
   "metadata": {},
   "source": [
    "Pergunta 8: Crie o algoritmo de Random forest com os seguintes parâmetros: (random_state=42, n_estimators=100, max_depth=100) Qual a feature de menor importância?"
   ]
  },
  {
   "cell_type": "code",
   "execution_count": 39,
   "id": "ede9e4c8-5b45-4ed0-a385-f57eba66624b",
   "metadata": {},
   "outputs": [
    {
     "data": {
      "text/html": [
       "<div>\n",
       "<style scoped>\n",
       "    .dataframe tbody tr th:only-of-type {\n",
       "        vertical-align: middle;\n",
       "    }\n",
       "\n",
       "    .dataframe tbody tr th {\n",
       "        vertical-align: top;\n",
       "    }\n",
       "\n",
       "    .dataframe thead th {\n",
       "        text-align: right;\n",
       "    }\n",
       "</style>\n",
       "<table border=\"1\" class=\"dataframe\">\n",
       "  <thead>\n",
       "    <tr style=\"text-align: right;\">\n",
       "      <th></th>\n",
       "      <th>Importancia</th>\n",
       "    </tr>\n",
       "  </thead>\n",
       "  <tbody>\n",
       "    <tr>\n",
       "      <th>fbs</th>\n",
       "      <td>0.007514</td>\n",
       "    </tr>\n",
       "    <tr>\n",
       "      <th>restecg</th>\n",
       "      <td>0.016024</td>\n",
       "    </tr>\n",
       "    <tr>\n",
       "      <th>sex</th>\n",
       "      <td>0.032056</td>\n",
       "    </tr>\n",
       "    <tr>\n",
       "      <th>slp</th>\n",
       "      <td>0.056349</td>\n",
       "    </tr>\n",
       "    <tr>\n",
       "      <th>exng</th>\n",
       "      <td>0.056606</td>\n",
       "    </tr>\n",
       "    <tr>\n",
       "      <th>trtbps</th>\n",
       "      <td>0.072934</td>\n",
       "    </tr>\n",
       "    <tr>\n",
       "      <th>chol</th>\n",
       "      <td>0.079063</td>\n",
       "    </tr>\n",
       "    <tr>\n",
       "      <th>age</th>\n",
       "      <td>0.079217</td>\n",
       "    </tr>\n",
       "    <tr>\n",
       "      <th>oldpeak</th>\n",
       "      <td>0.109878</td>\n",
       "    </tr>\n",
       "    <tr>\n",
       "      <th>thall</th>\n",
       "      <td>0.117353</td>\n",
       "    </tr>\n",
       "    <tr>\n",
       "      <th>caa</th>\n",
       "      <td>0.120775</td>\n",
       "    </tr>\n",
       "    <tr>\n",
       "      <th>cp</th>\n",
       "      <td>0.125280</td>\n",
       "    </tr>\n",
       "    <tr>\n",
       "      <th>thalachh</th>\n",
       "      <td>0.126951</td>\n",
       "    </tr>\n",
       "  </tbody>\n",
       "</table>\n",
       "</div>"
      ],
      "text/plain": [
       "          Importancia\n",
       "fbs          0.007514\n",
       "restecg      0.016024\n",
       "sex          0.032056\n",
       "slp          0.056349\n",
       "exng         0.056606\n",
       "trtbps       0.072934\n",
       "chol         0.079063\n",
       "age          0.079217\n",
       "oldpeak      0.109878\n",
       "thall        0.117353\n",
       "caa          0.120775\n",
       "cp           0.125280\n",
       "thalachh     0.126951"
      ]
     },
     "execution_count": 39,
     "metadata": {},
     "output_type": "execute_result"
    }
   ],
   "source": [
    "from sklearn.ensemble import RandomForestClassifier\n",
    "\n",
    "# Criar o classificador Random Forest\n",
    "classifier_novo = RandomForestClassifier(random_state=42, n_estimators=100, max_depth=100)\n",
    "\n",
    "# Cria modelo de classificação\n",
    "modelo_novo = classifier_novo.fit(X_train, y_train)\n",
    "\n",
    "pd.DataFrame(modelo.feature_importances_, columns = ['Importancia'],\n",
    "             index = ['age', 'sex', 'cp', 'trtbps', 'chol', 'fbs', 'restecg', 'thalachh',\n",
    "       'exng', 'oldpeak', 'slp', 'caa', 'thall']).sort_values('Importancia', ascending=True)"
   ]
  },
  {
   "cell_type": "markdown",
   "id": "a348c802-62c4-44d5-a8f0-cc2fb7c4517b",
   "metadata": {},
   "source": [
    "Resposta: fbs(Açucar no sangue em jegum)\n",
    "*** "
   ]
  },
  {
   "cell_type": "markdown",
   "id": "2aec8279-440a-4d9e-ba26-51ffadff57aa",
   "metadata": {},
   "source": [
    "Pergunta 9: Qual foi a acurácia do modelo?"
   ]
  },
  {
   "cell_type": "code",
   "execution_count": 40,
   "id": "14ee2edb-6fa0-43c2-a810-296a28895495",
   "metadata": {},
   "outputs": [
    {
     "name": "stdout",
     "output_type": "stream",
     "text": [
      "Precisão(%):  84.09\n"
     ]
    }
   ],
   "source": [
    "acuraria = accuracy_score(y_test, y_pred)\n",
    "print('Precisão(%): ', round(acuraria * 100, 2))"
   ]
  },
  {
   "cell_type": "markdown",
   "id": "1d78d787-158c-4796-af3a-4e41462819d5",
   "metadata": {},
   "source": [
    "Resposta: Acima de 84%\n",
    "*** "
   ]
  },
  {
   "cell_type": "markdown",
   "id": "0e03793a-d245-4231-a6c6-1f7835a19c89",
   "metadata": {},
   "source": [
    "Pergunta 10: Desenvolva a matriz de confusão e forneça a resposta correspondente. Qual é a quantidade de registros que o modelo acertou para a classe com menor probabilidade de ocorrer um ataque cardíaco?"
   ]
  },
  {
   "cell_type": "code",
   "execution_count": 41,
   "id": "09ab9c91-8ae2-47e3-9db0-11ac00cf9952",
   "metadata": {},
   "outputs": [
    {
     "data": {
      "image/png": "[encoded data removed]",
      "text/plain": [
       "<Figure size 600x300 with 2 Axes>"
      ]
     },
     "metadata": {},
     "output_type": "display_data"
    }
   ],
   "source": [
    "# Definir os rótulos para os eixos\n",
    "labels=['Menos chance de ataque cardíaco', 'Mais chance de ataque cardíaco']\n",
    "\n",
    "plt.figure(figsize=(6,3))\n",
    "sns.heatmap(data=cm,\n",
    "            annot=True,\n",
    "            cmap='Blues',\n",
    "            xticklabels=labels,\n",
    "            yticklabels=labels)\n",
    "plt.xlabel('Valor Previsto')\n",
    "plt.ylabel('Valor Real')\n",
    "plt.title('Matriz de Confusão')\n",
    "plt.show()"
   ]
  },
  {
   "cell_type": "markdown",
   "id": "144b56ca-66d1-48c2-b9f1-23ce3a74d6fa",
   "metadata": {},
   "source": [
    "Resposta: 17 registros de acerto\n",
    "***"
   ]
  },
  {
   "cell_type": "markdown",
   "id": "f6003132-8118-4db0-a585-8f7e21768630",
   "metadata": {},
   "source": [
    "Pergunta 11: Qual é o número de registros em que o modelo cometeu erro ao prever a classe com maior probabilidade de ocorrer um ataque cardíaco?\n"
   ]
  },
  {
   "cell_type": "markdown",
   "id": "d64adbe4-bfe8-4aee-b8fb-7eeaec76915b",
   "metadata": {},
   "source": [
    "Resposta: 2 registros, com base no plot anterior\n",
    "***"
   ]
  },
  {
   "cell_type": "markdown",
   "id": "eca4a2fd-43b9-4848-ba3a-262336b3c7da",
   "metadata": {},
   "source": [
    "Pergunta 12: Qual foi a precisão que o modelo conseguiu para a classe de maior chance de ataque cardíaco?"
   ]
  },
  {
   "cell_type": "code",
   "execution_count": 42,
   "id": "862b1111-96c1-437b-af77-037ce88929ef",
   "metadata": {},
   "outputs": [
    {
     "name": "stdout",
     "output_type": "stream",
     "text": [
      "              precision    recall  f1-score   support\n",
      "\n",
      "           0       0.89      0.77      0.83        22\n",
      "           1       0.80      0.91      0.85        22\n",
      "\n",
      "    accuracy                           0.84        44\n",
      "   macro avg       0.85      0.84      0.84        44\n",
      "weighted avg       0.85      0.84      0.84        44\n",
      "\n"
     ]
    }
   ],
   "source": [
    "# Gerar o relatóri de classificação\n",
    "report = classification_report(y_test, y_pred)\n",
    "# Imprimir relatório de classificação\n",
    "print(report)"
   ]
  },
  {
   "cell_type": "markdown",
   "id": "df6b05c5-3bcf-4f35-9129-326a3ca57ca0",
   "metadata": {},
   "source": [
    "Resposta: 0.80\n",
    "***"
   ]
  },
  {
   "cell_type": "markdown",
   "id": "6820fbda-0960-4d8e-ba00-28c0eb244203",
   "metadata": {},
   "source": [
    "Pergunta 13: Qual foi a taxa de recall que o modelo alcançou para a classe com maior probabilidade de ocorrer um ataque cardíaco?"
   ]
  },
  {
   "cell_type": "code",
   "execution_count": 43,
   "id": "f67abc83-9566-4329-993c-5d32e44491ef",
   "metadata": {},
   "outputs": [
    {
     "name": "stdout",
     "output_type": "stream",
     "text": [
      "              precision    recall  f1-score   support\n",
      "\n",
      "           0       0.89      0.77      0.83        22\n",
      "           1       0.80      0.91      0.85        22\n",
      "\n",
      "    accuracy                           0.84        44\n",
      "   macro avg       0.85      0.84      0.84        44\n",
      "weighted avg       0.85      0.84      0.84        44\n",
      "\n"
     ]
    }
   ],
   "source": [
    "# Imprimir relatório de classificação\n",
    "print(report)\n"
   ]
  },
  {
   "cell_type": "markdown",
   "id": "fc39a23b-102e-43fc-9d94-828259fcac23",
   "metadata": {},
   "source": [
    "Resposta: 0.91, ou nenhuma das alternativas do questionário.\n",
    "***"
   ]
  },
  {
   "cell_type": "markdown",
   "id": "81e81b9b-2ea3-4d37-9c36-ad420a0c4232",
   "metadata": {},
   "source": [
    "Pergunta 14: Um novo paciente acaba de ser admitido no hospital apresentando os seguintes atributos: [[33, 1, 3, 50, 233, 1, 0, 150, 0, 2.3, 0, 0, 1]]. Cada atributo representa as variáveis utilizadas no modelo, onde, por exemplo, age (idade) é 33 e sex (sexo) é 1. Qual foi a classificação atribuída pelo modelo para esse paciente?"
   ]
  },
  {
   "cell_type": "code",
   "execution_count": 44,
   "id": "0c83c63d-b5e7-4790-bc70-24609490dd41",
   "metadata": {},
   "outputs": [
    {
     "data": {
      "text/plain": [
       "array([1], dtype=int64)"
      ]
     },
     "execution_count": 44,
     "metadata": {},
     "output_type": "execute_result"
    }
   ],
   "source": [
    "dados_cliente = [[33, 1, 3, 50, 233, 1, 0, 150, 0, 2.3, 0, 0, 1]]\n",
    "\n",
    "modelo.predict(dados_cliente)"
   ]
  },
  {
   "cell_type": "markdown",
   "id": "a1fbfb35-0a3a-4aed-9a38-7f37fecbfb86",
   "metadata": {},
   "source": [
    "Resposta: Paciente com maior chance de ter um ataque cardíaco.\n",
    "***"
   ]
  },
  {
   "cell_type": "markdown",
   "id": "f978e17c-6722-4b1b-b539-ddde4966be00",
   "metadata": {},
   "source": [
    "Pergunta 15: Gere a matriz de correlação dos dados e responda: Qual é valor da correlação da variável output com cp?"
   ]
  },
  {
   "cell_type": "code",
   "execution_count": 46,
   "id": "8668f112-b312-4718-a62e-b2601a3b29f5",
   "metadata": {},
   "outputs": [
    {
     "name": "stdout",
     "output_type": "stream",
     "text": [
      "output      1.000000\n",
      "cp          0.432080\n",
      "thalachh    0.419955\n",
      "slp         0.343940\n",
      "restecg     0.134874\n",
      "fbs        -0.026826\n",
      "chol       -0.081437\n",
      "trtbps     -0.146269\n",
      "age        -0.221476\n",
      "sex        -0.283609\n",
      "thall      -0.343101\n",
      "caa        -0.408992\n",
      "oldpeak    -0.429146\n",
      "exng       -0.435601\n",
      "Name: output, dtype: float64\n"
     ]
    }
   ],
   "source": [
    "# Análise de correlação com a variável alvo 'target'\n",
    "correlation_target = correlation_matrix['output'].sort_values(ascending=False)\n",
    "\n",
    "# Visualizando as correlações com 'target'\n",
    "print(correlation_target)"
   ]
  },
  {
   "cell_type": "markdown",
   "id": "2e51d2f5-e76d-44ac-ab35-2e6584bbf023",
   "metadata": {},
   "source": [
    "Por hora, é isso"
   ]
  }
 ],
 "metadata": {
  "kernelspec": {
   "display_name": "MODML",
   "language": "python",
   "name": "modml"
  },
  "language_info": {
   "codemirror_mode": {
    "name": "ipython",
    "version": 3
   },
   "file_extension": ".py",
   "mimetype": "text/x-python",
   "name": "python",
   "nbconvert_exporter": "python",
   "pygments_lexer": "ipython3",
   "version": "3.11.3"
  }
 },
 "nbformat": 4,
 "nbformat_minor": 5
}
